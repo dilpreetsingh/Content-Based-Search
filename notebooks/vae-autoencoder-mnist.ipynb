{
 "cells": [
  {
   "cell_type": "code",
   "execution_count": 2,
   "metadata": {},
   "outputs": [],
   "source": [
    "%matplotlib inline\n",
    "\n",
    "from IPython.core.magic import register_line_magic\n",
    "                                \n",
    "import matplotlib.pyplot as plt\n",
    "\n",
    "from annoy import AnnoyIndex\n",
    "import torch.nn as nn\n",
    "\n",
    "# from fastai.vision import ConvLearner \n",
    "from fastai import vision\n",
    "import fastai\n",
    "from torchsummary import summary\n",
    "\n",
    "from PIL import Image\n",
    "import requests\n",
    "\n",
    "from tqdm import tqdm\n",
    "\n",
    "\n",
    "from fastai import torch_core\n",
    "\n",
    "import torchvision.models as tvm\n",
    "from torch.utils.data import Dataset, DataLoader\n",
    "import torch\n",
    "\n",
    "import cv2\n",
    "import glob\n",
    "import numpy as np\n",
    "import os"
   ]
  },
  {
   "cell_type": "markdown",
   "metadata": {},
   "source": [
    "# Introduction\n",
    "installation ![][img-overview]\n",
    "\n",
    "[img-overview]: https://i.imgur.com/xLtNhLp.png"
   ]
  },
  {
   "cell_type": "markdown",
   "metadata": {},
   "source": [
    "# Util functions"
   ]
  },
  {
   "cell_type": "code",
   "execution_count": 3,
   "metadata": {},
   "outputs": [],
   "source": [
    "def imshow(img):\n",
    "    img = img      # unnormalize\n",
    "    npimg = img.numpy()\n",
    "    plt.imshow(np.transpose(npimg, (1, 2, 0)))\n",
    "    plt.show()\n"
   ]
  },
  {
   "cell_type": "markdown",
   "metadata": {},
   "source": [
    "# Data Preparation\n",
    "TODO: where should one download data or training images?"
   ]
  },
  {
   "cell_type": "code",
   "execution_count": 32,
   "metadata": {},
   "outputs": [],
   "source": [
    "DATA_PATH = '../data/moma-artworks-1000/'\n",
    "TRANSFORMATION_PARAMS = dict(\n",
    "    size=224, \n",
    "    padding_mode=\"zeros\"\n",
    ")"
   ]
  },
  {
   "cell_type": "code",
   "execution_count": 33,
   "metadata": {},
   "outputs": [],
   "source": [
    "# This class is responsible for transforming images (aka. preprocessing)\n",
    "# before being feed to a neural network\n",
    "class ImageDataset(Dataset):\n",
    "    def __init__(self, root_dir):\n",
    "        # Look for jpegs in the directory\n",
    "        self.image_paths = sorted(glob.glob(root_dir + '*.jpeg'))\n",
    "        assert self.image_paths != 0, \"No images found in {}\".format(root_dir)\n",
    "\n",
    "        self.image_names = [os.path.basename(pa2th) for path in self.image_paths]\n",
    "        _, self.tfms = vision.get_transforms()\n",
    "\n",
    "    def __len__(self):\n",
    "        return len(self.image_paths)\n",
    "\n",
    "    def __getitem__(self, index, with_transformation=True):\n",
    "        image_path = self.image_paths[index]\n",
    "        \n",
    "        # Returns image in RGB format; each pixel ranges between 0.0 and 1.0\n",
    "        image = vision.open_image(image_path)\n",
    "\n",
    "        if not with_transformation:\n",
    "            return image.px\n",
    "\n",
    "        # Apply transforms to the image        \n",
    "        return self.transform(self.tfms, image).px\n",
    "    \n",
    "    def transform(self, tfms, img):\n",
    "        return img.apply_tfms(tfms, **TRANSFORMATION_PARAMS)\n",
    "    \n",
    "    def get(self, index, **kwargs):\n",
    "        return self.__getitem__(index, **kwargs)"
   ]
  },
  {
   "cell_type": "code",
   "execution_count": 34,
   "metadata": {},
   "outputs": [
    {
     "ename": "NameError",
     "evalue": "name 'pa2th' is not defined",
     "output_type": "error",
     "traceback": [
      "\u001b[0;31m---------------------------------------------------------------------------\u001b[0m",
      "\u001b[0;31mNameError\u001b[0m                                 Traceback (most recent call last)",
      "\u001b[0;32m<ipython-input-34-8414267a8efc>\u001b[0m in \u001b[0;36m<module>\u001b[0;34m\u001b[0m\n\u001b[0;32m----> 1\u001b[0;31m \u001b[0mdataset\u001b[0m \u001b[0;34m=\u001b[0m \u001b[0mImageDataset\u001b[0m\u001b[0;34m(\u001b[0m\u001b[0mDATA_PATH\u001b[0m\u001b[0;34m)\u001b[0m\u001b[0;34m\u001b[0m\u001b[0m\n\u001b[0m",
      "\u001b[0;32m<ipython-input-33-f025b90390a2>\u001b[0m in \u001b[0;36m__init__\u001b[0;34m(self, root_dir)\u001b[0m\n\u001b[1;32m      7\u001b[0m         \u001b[0;32massert\u001b[0m \u001b[0mself\u001b[0m\u001b[0;34m.\u001b[0m\u001b[0mimage_paths\u001b[0m \u001b[0;34m!=\u001b[0m \u001b[0;36m0\u001b[0m\u001b[0;34m,\u001b[0m \u001b[0;34m\"No images found in {}\"\u001b[0m\u001b[0;34m.\u001b[0m\u001b[0mformat\u001b[0m\u001b[0;34m(\u001b[0m\u001b[0mroot_dir\u001b[0m\u001b[0;34m)\u001b[0m\u001b[0;34m\u001b[0m\u001b[0m\n\u001b[1;32m      8\u001b[0m \u001b[0;34m\u001b[0m\u001b[0m\n\u001b[0;32m----> 9\u001b[0;31m         \u001b[0mself\u001b[0m\u001b[0;34m.\u001b[0m\u001b[0mimage_names\u001b[0m \u001b[0;34m=\u001b[0m \u001b[0;34m[\u001b[0m\u001b[0mos\u001b[0m\u001b[0;34m.\u001b[0m\u001b[0mpath\u001b[0m\u001b[0;34m.\u001b[0m\u001b[0mbasename\u001b[0m\u001b[0;34m(\u001b[0m\u001b[0mpa2th\u001b[0m\u001b[0;34m)\u001b[0m \u001b[0;32mfor\u001b[0m \u001b[0mpath\u001b[0m \u001b[0;32min\u001b[0m \u001b[0mself\u001b[0m\u001b[0;34m.\u001b[0m\u001b[0mimage_paths\u001b[0m\u001b[0;34m]\u001b[0m\u001b[0;34m\u001b[0m\u001b[0m\n\u001b[0m\u001b[1;32m     10\u001b[0m         \u001b[0m_\u001b[0m\u001b[0;34m,\u001b[0m \u001b[0mself\u001b[0m\u001b[0;34m.\u001b[0m\u001b[0mtfms\u001b[0m \u001b[0;34m=\u001b[0m \u001b[0mvision\u001b[0m\u001b[0;34m.\u001b[0m\u001b[0mget_transforms\u001b[0m\u001b[0;34m(\u001b[0m\u001b[0;34m)\u001b[0m\u001b[0;34m\u001b[0m\u001b[0m\n\u001b[1;32m     11\u001b[0m \u001b[0;34m\u001b[0m\u001b[0m\n",
      "\u001b[0;32m<ipython-input-33-f025b90390a2>\u001b[0m in \u001b[0;36m<listcomp>\u001b[0;34m(.0)\u001b[0m\n\u001b[1;32m      7\u001b[0m         \u001b[0;32massert\u001b[0m \u001b[0mself\u001b[0m\u001b[0;34m.\u001b[0m\u001b[0mimage_paths\u001b[0m \u001b[0;34m!=\u001b[0m \u001b[0;36m0\u001b[0m\u001b[0;34m,\u001b[0m \u001b[0;34m\"No images found in {}\"\u001b[0m\u001b[0;34m.\u001b[0m\u001b[0mformat\u001b[0m\u001b[0;34m(\u001b[0m\u001b[0mroot_dir\u001b[0m\u001b[0;34m)\u001b[0m\u001b[0;34m\u001b[0m\u001b[0m\n\u001b[1;32m      8\u001b[0m \u001b[0;34m\u001b[0m\u001b[0m\n\u001b[0;32m----> 9\u001b[0;31m         \u001b[0mself\u001b[0m\u001b[0;34m.\u001b[0m\u001b[0mimage_names\u001b[0m \u001b[0;34m=\u001b[0m \u001b[0;34m[\u001b[0m\u001b[0mos\u001b[0m\u001b[0;34m.\u001b[0m\u001b[0mpath\u001b[0m\u001b[0;34m.\u001b[0m\u001b[0mbasename\u001b[0m\u001b[0;34m(\u001b[0m\u001b[0mpa2th\u001b[0m\u001b[0;34m)\u001b[0m \u001b[0;32mfor\u001b[0m \u001b[0mpath\u001b[0m \u001b[0;32min\u001b[0m \u001b[0mself\u001b[0m\u001b[0;34m.\u001b[0m\u001b[0mimage_paths\u001b[0m\u001b[0;34m]\u001b[0m\u001b[0;34m\u001b[0m\u001b[0m\n\u001b[0m\u001b[1;32m     10\u001b[0m         \u001b[0m_\u001b[0m\u001b[0;34m,\u001b[0m \u001b[0mself\u001b[0m\u001b[0;34m.\u001b[0m\u001b[0mtfms\u001b[0m \u001b[0;34m=\u001b[0m \u001b[0mvision\u001b[0m\u001b[0;34m.\u001b[0m\u001b[0mget_transforms\u001b[0m\u001b[0;34m(\u001b[0m\u001b[0;34m)\u001b[0m\u001b[0;34m\u001b[0m\u001b[0m\n\u001b[1;32m     11\u001b[0m \u001b[0;34m\u001b[0m\u001b[0m\n",
      "\u001b[0;31mNameError\u001b[0m: name 'pa2th' is not defined"
     ]
    }
   ],
   "source": [
    "dataset = ImageDataset(DATA_PATH)"
   ]
  },
  {
   "cell_type": "code",
   "execution_count": 11,
   "metadata": {},
   "outputs": [
    {
     "name": "stdout",
     "output_type": "stream",
     "text": [
      "We have 5934 images\n"
     ]
    }
   ],
   "source": [
    "print('We have %d images' % len(dataset.image_paths))"
   ]
  },
  {
   "cell_type": "code",
   "execution_count": 191,
   "metadata": {},
   "outputs": [
    {
     "data": {
      "text/plain": [
       "<iterator at 0x124c52588>"
      ]
     },
     "execution_count": 191,
     "metadata": {},
     "output_type": "execute_result"
    }
   ],
   "source": [
    "iter(dataset)"
   ]
  },
  {
   "cell_type": "code",
   "execution_count": 21,
   "metadata": {},
   "outputs": [
    {
     "data": {
      "text/plain": [
       "<matplotlib.axes._subplots.AxesSubplot at 0x12f06a828>"
      ]
     },
     "execution_count": 21,
     "metadata": {},
     "output_type": "execute_result"
    },
    {
     "data": {
      "image/png": "[encoded data removed]",
      "text/plain": [
       "<Figure size 216x216 with 1 Axes>"
      ]
     },
     "metadata": {
      "needs_background": "light"
     },
     "output_type": "display_data"
    }
   ],
   "source": [
    "vision.image.show_image(dataset.get(1863))"
   ]
  },
  {
   "cell_type": "code",
   "execution_count": 22,
   "metadata": {},
   "outputs": [
    {
     "data": {
      "text/plain": [
       "<matplotlib.axes._subplots.AxesSubplot at 0x1093df828>"
      ]
     },
     "execution_count": 22,
     "metadata": {},
     "output_type": "execute_result"
    },
    {
     "data": {
      "image/png": "[encoded data removed]",
      "text/plain": [
       "<Figure size 216x216 with 1 Axes>"
      ]
     },
     "metadata": {
      "needs_background": "light"
     },
     "output_type": "display_data"
    }
   ],
   "source": [
    "vision.image.show_image(dataset.get(2, with_transformation=False))"
   ]
  },
  {
   "cell_type": "markdown",
   "metadata": {},
   "source": [
    "# AutoEncoder\n",
    "image -> encoder -> z -> decoder -> image"
   ]
  },
  {
   "cell_type": "code",
   "execution_count": 5,
   "metadata": {},
   "outputs": [],
   "source": [
    "import torch\n",
    "import torchvision\n",
    "import torchvision.transforms as transforms"
   ]
  },
  {
   "cell_type": "code",
   "execution_count": 6,
   "metadata": {},
   "outputs": [],
   "source": [
    "transform = transforms.Compose(\n",
    "    [transforms.ToTensor(),\n",
    "#      transforms.Normalize((0.5, 0.5, 0.5), (0.5, 0.5, 0.5))\n",
    "    ])\n",
    "\n",
    "trainset = torchvision.datasets.FashionMNIST(root='./data/mnist', train=True, download=True, transform=transform)\n",
    "trainloader = torch.utils.data.DataLoader(trainset, batch_size=32, \n",
    "                                          shuffle=True, num_workers=2)\n",
    "\n",
    "testset = torchvision.datasets.FashionMNIST(root='./data/mnist', train=False,\n",
    "                                       download=True, transform=transform)\n",
    "testloader = torch.utils.data.DataLoader(testset, batch_size=4,\n",
    "                                         shuffle=False, num_workers=2)\n",
    "\n"
   ]
  },
  {
   "cell_type": "code",
   "execution_count": 138,
   "metadata": {},
   "outputs": [
    {
     "data": {
      "text/plain": [
       "torch.Size([28, 28])"
      ]
     },
     "execution_count": 138,
     "metadata": {},
     "output_type": "execute_result"
    }
   ],
   "source": [
    "trainset.train_data[0].shape"
   ]
  },
  {
   "cell_type": "code",
   "execution_count": 190,
   "metadata": {},
   "outputs": [
    {
     "data": {
      "text/plain": [
       "'/Users/heytitle/projects/venv-python3/lib/python3.6/site-packages/torchvision/datasets/mnist.py'"
      ]
     },
     "execution_count": 190,
     "metadata": {},
     "output_type": "execute_result"
    }
   ],
   "source": [
    "import inspect\n",
    "inspect.getfile(mnist.__class__)\n"
   ]
  },
  {
   "cell_type": "code",
   "execution_count": 59,
   "metadata": {},
   "outputs": [],
   "source": [
    "NOISE_PARAM = 0.3\n",
    "class NoisyMNISTDataset(Dataset):\n",
    "    def __init__(self, train=True, transform=None, noisy_transform=None):\n",
    "        ds = torchvision.datasets.MNIST(root='./data/mnist', train=train, download=True)\n",
    "        if train:\n",
    "            self.data, self.labels = ds.train_data, ds.train_labels\n",
    "        else:\n",
    "            self.data, self.labels = ds.test_data, ds.test_labels\n",
    "        self.transform = transform\n",
    "        self.noisy_transform =  transforms.Compose([noisy_transform, transform])\n",
    "        \n",
    "    def __getitem__(self, index):\n",
    "        img = self.data[index]\n",
    "        \n",
    "        img1 = Image.fromarray(img.numpy(), mode='L')\n",
    "        x = self.transform(img1)\n",
    "        \n",
    "#         img2 = Image.fromarray(img.numpy(), mode='L')\n",
    "#         x_mod = self.noisy_transform(img2)\n",
    "        mark = (torch.rand_like(x) < NOISE_PARAM).to(dtype=torch.float32)\n",
    "        noisy_x = (1-mark)*x + torch.ones_like(x)*mark\n",
    "        return x, noisy_x\n",
    "            \n",
    "    \n",
    "    def __len__(self):\n",
    "        return len(self.data)\n",
    "    \n",
    "    \n",
    "noisy_transform = transforms.ColorJitter(brightness=0.5, contrast=0.5, saturation=0, hue=0.2)\n",
    "\n",
    "\n",
    "nmnist_train_set = NoisyMNISTDataset(transform=transform, noisy_transform=noisy_transform)\n",
    "nmnist_test_set = NoisyMNISTDataset(transform=transform, noisy_transform=noisy_transform, train=False)\n",
    "\n",
    "trainloader = torch.utils.data.DataLoader(nmnist_train_set, batch_size=32, shuffle=True, num_workers=2)\n",
    "testloader = torch.utils.data.DataLoader(nmnist_test_set, batch_size=4, shuffle=False, num_workers=2)"
   ]
  },
  {
   "cell_type": "code",
   "execution_count": 43,
   "metadata": {},
   "outputs": [
    {
     "data": {
      "text/plain": [
       "<matplotlib.axes._subplots.AxesSubplot at 0x133333160>"
      ]
     },
     "execution_count": 43,
     "metadata": {},
     "output_type": "execute_result"
    },
    {
     "data": {
      "image/png": "[encoded data removed]",
      "text/plain": [
       "<Figure size 216x216 with 1 Axes>"
      ]
     },
     "metadata": {
      "needs_background": "light"
     },
     "output_type": "display_data"
    },
    {
     "data": {
      "image/png": "[encoded data removed]",
      "text/plain": [
       "<Figure size 216x216 with 1 Axes>"
      ]
     },
     "metadata": {
      "needs_background": "light"
     },
     "output_type": "display_data"
    }
   ],
   "source": [
    "bb = nmnist_test_set[980]\n",
    "\n",
    "vision.image.show_image(bb[0], cmap='gray')\n",
    "vision.image.show_image(bb[1], cmap='gray')"
   ]
  },
  {
   "cell_type": "code",
   "execution_count": 7,
   "metadata": {},
   "outputs": [],
   "source": [
    "import torch.nn.functional as F\n",
    "\n",
    "import torch.nn as nn\n",
    "from functools import reduce\n",
    "import torch.optim as optim\n",
    "\n",
    "class Flatten(nn.Module):\n",
    "    def __init__(self):\n",
    "        super(Flatten, self).__init__()\n",
    "\n",
    "    def forward(self, x):\n",
    "        return x.view(x.size(0), -1)\n",
    "    \n",
    "class Reshape(nn.Module):\n",
    "    def __init__(self, shape):\n",
    "        super(Reshape, self).__init__()\n",
    "        self.shape = shape\n",
    "\n",
    "    def forward(self, x):\n",
    "        return x.view(x.size(0), *self.shape)"
   ]
  },
  {
   "cell_type": "code",
   "execution_count": 8,
   "metadata": {},
   "outputs": [],
   "source": [
    "class VanillaVAE(nn.Module):\n",
    "    def __init__(self, verbose=False):\n",
    "        super(VanillaVAE, self).__init__()\n",
    "        \n",
    "        self.encoder = nn.Sequential(\n",
    "            nn.Conv2d(3, 6, 5),\n",
    "            nn.ReLU(True),\n",
    "            nn.MaxPool2d(2, 2),\n",
    "            nn.Conv2d(6, 16, 5),\n",
    "            nn.ReLU(True),\n",
    "            nn.MaxPool2d(2, 2),\n",
    "            Flatten(),\n",
    "            nn.Linear(16 * 5 * 5, 120),\n",
    "            nn.ReLU(True),\n",
    "            nn.Linear(120, 84),\n",
    "            nn.ReLU(True),\n",
    "        )\n",
    "        \n",
    "        self.decoder = nn.Sequential(\n",
    "            nn.Linear(84, 120),\n",
    "            nn.ReLU(True),\n",
    "            nn.Linear(120, 16*5*5),\n",
    "            nn.ReLU(True),\n",
    "            Reshape([16, 5, 5]),\n",
    "            nn.Upsample(scale_factor=2),\n",
    "            nn.ConvTranspose2d(16, 6, 5),\n",
    "            nn.ReLU(True),\n",
    "            nn.Upsample(scale_factor=2),\n",
    "            nn.ConvTranspose2d(6, 3, 5),\n",
    "            nn.Tanh()\n",
    "        )\n",
    "\n",
    "    def forward(self, x):\n",
    "        z = self.encoder(x)\n",
    "        x_hat = self.decoder(z)\n",
    "        return x_hat\n",
    "    \n",
    "    def parameters(self):\n",
    "        return list(self.encoder.parameters()) + list(self.decoder.parameters())"
   ]
  },
  {
   "cell_type": "markdown",
   "metadata": {},
   "source": [
    "# VAE"
   ]
  },
  {
   "cell_type": "code",
   "execution_count": 9,
   "metadata": {},
   "outputs": [],
   "source": [
    "class VAE(nn.Module):\n",
    "    def __init__(self, latent_dims=2, verbose=False):\n",
    "        super(VAE, self).__init__()\n",
    "        \n",
    "        self.encoder = nn.Sequential(\n",
    "            nn.Conv2d(1, 6, 5),\n",
    "            nn.ReLU(True),\n",
    "            nn.MaxPool2d(2, 2),\n",
    "            nn.Conv2d(6, 16, 5),\n",
    "            nn.ReLU(True),\n",
    "            nn.MaxPool2d(2, 2),\n",
    "            Flatten(),\n",
    "            nn.Linear(16 * 4 * 4, 120),\n",
    "            nn.ReLU(True),\n",
    "            nn.Linear(120, 2*latent_dims),\n",
    "        )\n",
    "        \n",
    "        self.decoder = nn.Sequential(\n",
    "            nn.Linear(latent_dims, 120),\n",
    "            nn.ReLU(True),\n",
    "            nn.Linear(120, 16*4*4),\n",
    "            nn.ReLU(True),\n",
    "            Reshape([16, 4, 4]),\n",
    "            nn.Upsample(scale_factor=2),\n",
    "            nn.ConvTranspose2d(16, 6, 5),\n",
    "            nn.ReLU(True),\n",
    "            nn.Upsample(scale_factor=2),\n",
    "            nn.ConvTranspose2d(6, 1, 5),\n",
    "            nn.Sigmoid()\n",
    "        )\n",
    "\n",
    "    def forward(self, x):\n",
    "        h = self.encoder(x)\n",
    "        z_mu, z_logvar = torch.chunk(h, 2, dim=1)\n",
    "        z_mu = z_mu.view(z_mu.size(0), -1)\n",
    "        z_logvar = z_logvar.view(z_logvar.size(0), -1)\n",
    "        \n",
    "        z_logvar = nn.Softplus()(z_logvar)\n",
    "        \n",
    "        z = self.sampling(z_mu, z_logvar)\n",
    "\n",
    "        x_hat = self.decoder(z)\n",
    "        return x_hat, z, z_mu, z_logvar\n",
    "    \n",
    "    def sampling(self, mu, logvar):\n",
    "        std = torch.exp(0.5*logvar)\n",
    "        eps = torch.randn_like(std)\n",
    "        return eps.mul(std).add_(mu)\n",
    "    \n",
    "    def parameters(self):\n",
    "        return list(self.encoder.parameters()) + list(self.decoder.parameters())\n",
    "\n",
    "def loss_function(recon_x, x, mu, logvar):\n",
    "    BCE = F.binary_cross_entropy(recon_x.view(-1, 28*28), x.view(-1, 28*28), reduction='sum')\n",
    "    \n",
    "    # see Appendix B from VAE paper:\n",
    "    # Kingma and Welling. Auto-Encoding Variational Bayes. ICLR, 2014\n",
    "    # https://arxiv.org/abs/1312.6114\n",
    "    # 0.5 * sum(1 + log(sigma^2) - mu^2 - sigma^2)\n",
    "    KLD = -0.5 * torch.sum(1 + logvar - mu.pow(2) - logvar.exp())\n",
    "    \n",
    "    return (BCE + KLD) / (mu.shape[0]*mu.shape[1])"
   ]
  },
  {
   "cell_type": "markdown",
   "metadata": {},
   "source": [
    "# Denoise VAE"
   ]
  },
  {
   "cell_type": "code",
   "execution_count": 44,
   "metadata": {},
   "outputs": [],
   "source": [
    "class DVAE(nn.Module):\n",
    "    def __init__(self, latent_dims=2, verbose=False):\n",
    "        super(DVAE, self).__init__()\n",
    "        \n",
    "        self.latent_dims = latent_dims\n",
    "        self.dm = nn.Linear(128, latent_dims)\n",
    "        self.dv = nn.Linear(128, latent_dims)\n",
    "\n",
    "        self.encoder = nn.Sequential(\n",
    "            Flatten(),\n",
    "            nn.Linear(784, 512), nn.ReLU(True),\n",
    "            nn.Linear(512, 128)\n",
    "        )\n",
    "        \n",
    "        self.decoder = nn.Sequential(\n",
    "            nn.Linear(latent_dims, 128), nn.ReLU(True),\n",
    "            nn.Linear(128, 512),  nn.ReLU(True),\n",
    "            nn.Linear(512, 784), nn.Sigmoid(),\n",
    "            Reshape([1, 28, 28]),\n",
    "        )\n",
    "\n",
    "\n",
    "    def forward(self, x):\n",
    "        h = self.encoder(x)\n",
    "        z_mu = self.dm(h)\n",
    "        \n",
    "        z_logvar = self.dv(h)\n",
    "        \n",
    "        z_logvar = nn.Softplus()(z_logvar)\n",
    "        \n",
    "        z = self.sampling(z_mu, z_logvar)\n",
    "\n",
    "        x_hat = self.decoder(z)\n",
    "        return x_hat, z, z_mu, z_logvar\n",
    "    \n",
    "    def sampling(self, mu, logvar):\n",
    "        std = torch.exp(0.5*logvar)\n",
    "        eps = torch.randn_like(std)\n",
    "        return eps.mul(std).add_(mu)\n",
    "    \n",
    "    def parameters(self):\n",
    "        return list(self.encoder.parameters()) + list(self.decoder.parameters()) + \\\n",
    "            list(self.dm.parameters()) + list(self.dv.parameters())\n",
    "\n"
   ]
  },
  {
   "cell_type": "code",
   "execution_count": 45,
   "metadata": {},
   "outputs": [
    {
     "name": "stdout",
     "output_type": "stream",
     "text": [
      "[1,   150] loss: 3.246\n",
      "[1,   300] loss: 2.152\n",
      "[1,   450] loss: 2.088\n",
      "[1,   600] loss: 2.051\n",
      "[1,   750] loss: 2.002\n",
      "[1,   900] loss: 1.992\n",
      "[1,  1050] loss: 1.989\n",
      "[1,  1200] loss: 1.965\n",
      "[1,  1350] loss: 1.959\n",
      "[1,  1500] loss: 1.953\n",
      "[1,  1650] loss: 1.952\n",
      "[1,  1800] loss: 1.916\n",
      "[2,   150] loss: 1.910\n",
      "[2,   300] loss: 1.883\n",
      "[2,   450] loss: 1.865\n",
      "[2,   600] loss: 1.863\n",
      "[2,   750] loss: 1.847\n",
      "[2,   900] loss: 1.842\n",
      "[2,  1050] loss: 1.813\n",
      "[2,  1200] loss: 1.798\n",
      "[2,  1350] loss: 1.753\n",
      "[2,  1500] loss: 1.746\n",
      "[2,  1650] loss: 1.724\n",
      "[2,  1800] loss: 1.723\n",
      "[3,   150] loss: 1.716\n",
      "[3,   300] loss: 1.712\n",
      "[3,   450] loss: 1.699\n",
      "[3,   600] loss: 1.705\n",
      "[3,   750] loss: 1.697\n",
      "[3,   900] loss: 1.705\n",
      "[3,  1050] loss: 1.682\n",
      "[3,  1200] loss: 1.691\n",
      "[3,  1350] loss: 1.687\n",
      "[3,  1500] loss: 1.671\n",
      "[3,  1650] loss: 1.670\n",
      "[3,  1800] loss: 1.659\n",
      "[4,   150] loss: 1.661\n",
      "[4,   300] loss: 1.650\n",
      "[4,   450] loss: 1.642\n",
      "[4,   600] loss: 1.656\n",
      "[4,   750] loss: 1.644\n",
      "[4,   900] loss: 1.638\n",
      "[4,  1050] loss: 1.638\n",
      "[4,  1200] loss: 1.634\n",
      "[4,  1350] loss: 1.631\n",
      "[4,  1500] loss: 1.627\n",
      "[4,  1650] loss: 1.626\n",
      "[4,  1800] loss: 1.619\n",
      "[5,   150] loss: 1.623\n",
      "[5,   300] loss: 1.618\n",
      "[5,   450] loss: 1.606\n",
      "[5,   600] loss: 1.593\n",
      "[5,   750] loss: 1.606\n",
      "[5,   900] loss: 1.595\n",
      "[5,  1050] loss: 1.594\n",
      "[5,  1200] loss: 1.595\n",
      "[5,  1350] loss: 1.594\n",
      "[5,  1500] loss: 1.583\n",
      "[5,  1650] loss: 1.594\n",
      "[5,  1800] loss: 1.575\n"
     ]
    }
   ],
   "source": [
    "running_loss = []\n",
    "\n",
    "dvae = DVAE(latent_dims=100)\n",
    "\n",
    "optimizer = optim.Adam(dvae.parameters(), lr=0.0001)\n",
    "\n",
    "for epoch in range(5):\n",
    "    for i, data in enumerate(trainloader, 0):\n",
    "        x, x_mod = data\n",
    "\n",
    "        optimizer.zero_grad()\n",
    "\n",
    "        x_hat, z, z_mu, z_logvar = dvae(x_mod)\n",
    "\n",
    "        loss = loss_function(x_hat, x, z_mu, z_logvar)\n",
    "\n",
    "\n",
    "        loss.backward()\n",
    "        optimizer.step()\n",
    "\n",
    "        # print statistics\n",
    "        running_loss.append(loss.item())\n",
    "        if i % 150 == 149:    \n",
    "            print('[%d, %5d] loss: %.3f' % (epoch + 1, i + 1, np.mean(running_loss)))\n",
    "            running_loss = []"
   ]
  },
  {
   "cell_type": "code",
   "execution_count": 48,
   "metadata": {},
   "outputs": [
    {
     "data": {
      "image/png": "[encoded data removed]",
      "text/plain": [
       "<Figure size 432x288 with 1 Axes>"
      ]
     },
     "metadata": {
      "needs_background": "light"
     },
     "output_type": "display_data"
    },
    {
     "data": {
      "image/png": "[encoded data removed]",
      "text/plain": [
       "<Figure size 432x288 with 1 Axes>"
      ]
     },
     "metadata": {
      "needs_background": "light"
     },
     "output_type": "display_data"
    },
    {
     "data": {
      "image/png": "[encoded data removed]",
      "text/plain": [
       "<Figure size 432x288 with 1 Axes>"
      ]
     },
     "metadata": {
      "needs_background": "light"
     },
     "output_type": "display_data"
    }
   ],
   "source": [
    "dataiter = iter(testloader)\n",
    "\n",
    "images, images_mod = dataiter.next()\n",
    "\n",
    "imshow(torchvision.utils.make_grid(images))\n",
    "imshow(torchvision.utils.make_grid(images_mod))\n",
    "\n",
    "reconstructed_imgs, *_ = dvae(images_mod)\n",
    "reconstructed_imgs = reconstructed_imgs.detach()\n",
    "\n",
    "imshow(torchvision.utils.make_grid(reconstructed_imgs))"
   ]
  },
  {
   "cell_type": "markdown",
   "metadata": {},
   "source": [
    "# Use embedding for Classification"
   ]
  },
  {
   "cell_type": "code",
   "execution_count": 66,
   "metadata": {},
   "outputs": [
    {
     "name": "stdout",
     "output_type": "stream",
     "text": [
      "====> Test set loss: 1.5729\n"
     ]
    }
   ],
   "source": [
    "dvae.eval()\n",
    "test_images = np.zeros((len(testloader.dataset), 100))\n",
    "test_loss = []\n",
    "with torch.no_grad():\n",
    "    for i, (x, x_mod) in enumerate(testloader):\n",
    "\n",
    "        x_hat, z, z_mu, z_logvar = dvae(x_mod)\n",
    "\n",
    "        test_images[i*4:(i+1)*4] = z\n",
    "        \n",
    "        test_loss.append(loss_function(x_hat, x, z_mu, z_logvar).item())\n",
    "\n",
    "    test_loss = np.mean(test_loss)\n",
    "    print('====> Test set loss: {:.4f}'.format(test_loss))"
   ]
  },
  {
   "cell_type": "code",
   "execution_count": 67,
   "metadata": {},
   "outputs": [],
   "source": [
    "true_labels = testloader.dataset.labels.numpy()"
   ]
  },
  {
   "cell_type": "code",
   "execution_count": 68,
   "metadata": {},
   "outputs": [],
   "source": [
    "test_images_normed = test_images / np.sqrt(np.sum(np.power(test_images, 2), axis=1)).reshape((-1, 1))"
   ]
  },
  {
   "cell_type": "code",
   "execution_count": 69,
   "metadata": {},
   "outputs": [],
   "source": [
    "sim_matrix = test_images_normed.dot(test_images_normed.T)"
   ]
  },
  {
   "cell_type": "code",
   "execution_count": 70,
   "metadata": {},
   "outputs": [
    {
     "name": "stdout",
     "output_type": "stream",
     "text": [
      "Predicted from VAE features: accuracy 0.5318\n"
     ]
    }
   ],
   "source": [
    "nearest_neighbors = np.argsort(-sim_matrix, axis=1)\n",
    "first_nn = nearest_neighbors[:, 1]\n",
    "predicted_labels = true_labels[first_nn]\n",
    "print('Predicted from VAE features: accuracy %.4f' % np.mean(true_labels == predicted_labels))"
   ]
  },
  {
   "cell_type": "code",
   "execution_count": 71,
   "metadata": {},
   "outputs": [
    {
     "name": "stdout",
     "output_type": "stream",
     "text": [
      "Predict from pixel values: accuracy 0.5373\n"
     ]
    }
   ],
   "source": [
    "raw_images = testloader.dataset.data.view(-1, 784).numpy()\n",
    "raw_test_images_normed = raw_images / np.sqrt(np.sum(np.power(raw_images, 2), axis=1)).reshape((-1, 1))\n",
    "raw_sim_matrix = raw_test_images_normed.dot(raw_test_images_normed.T)\n",
    "raw_nearest_neighbors = np.argsort(-raw_sim_matrix, axis=1)\n",
    "raw_first_nn = raw_nearest_neighbors[:, 1]\n",
    "raw_predicted_labels = true_labels[raw_first_nn]\n",
    "print('Predict from pixel values: accuracy %.4f' % np.mean(true_labels == raw_predicted_labels))"
   ]
  },
  {
   "cell_type": "code",
   "execution_count": null,
   "metadata": {},
   "outputs": [],
   "source": []
  },
  {
   "cell_type": "code",
   "execution_count": null,
   "metadata": {},
   "outputs": [],
   "source": []
  },
  {
   "cell_type": "code",
   "execution_count": 82,
   "metadata": {},
   "outputs": [
    {
     "data": {
      "text/plain": [
       "(10000, 10000)"
      ]
     },
     "execution_count": 82,
     "metadata": {},
     "output_type": "execute_result"
    }
   ],
   "source": []
  },
  {
   "cell_type": "code",
   "execution_count": 83,
   "metadata": {},
   "outputs": [],
   "source": [
    "first_nn = nearest_neighbors[:, 1]"
   ]
  },
  {
   "cell_type": "code",
   "execution_count": 88,
   "metadata": {},
   "outputs": [],
   "source": []
  },
  {
   "cell_type": "code",
   "execution_count": 89,
   "metadata": {},
   "outputs": [],
   "source": [
    "predicted_labels = true_labels[first_nn]"
   ]
  },
  {
   "cell_type": "code",
   "execution_count": 90,
   "metadata": {},
   "outputs": [
    {
     "data": {
      "text/plain": [
       "array([5, 4, 1, 1, ..., 1, 8, 3, 5])"
      ]
     },
     "execution_count": 90,
     "metadata": {},
     "output_type": "execute_result"
    }
   ],
   "source": [
    "predicted_labels"
   ]
  },
  {
   "cell_type": "code",
   "execution_count": null,
   "metadata": {},
   "outputs": [],
   "source": [
    "print('accuracy %.4f' % np.mean(true_labels == predicted_labels))"
   ]
  },
  {
   "cell_type": "code",
   "execution_count": null,
   "metadata": {},
   "outputs": [],
   "source": [
    "        self.encoder = nn.Sequential(\n",
    "            nn.Conv2d(1, 20, 5),\n",
    "            nn.BatchNorm2d(20),\n",
    "            nn.ReLU(True),\n",
    "            nn.MaxPool2d(2, 2),\n",
    "            nn.Conv2d(20, 15, 5),\n",
    "            nn.BatchNorm2d(15),\n",
    "            nn.ReLU(True),\n",
    "            nn.MaxPool2d(2, 2),\n",
    "            Flatten(),\n",
    "            nn.Linear(15 * 4 * 4, 120),\n",
    "#             nn.Dropout(p=0.2),\n",
    "            nn.ReLU(True),\n",
    "        )\n",
    "        \n",
    "        self.decoder = nn.Sequential(\n",
    "            nn.Linear(latent_dims, 120),\n",
    "            nn.ReLU(True),\n",
    "            nn.Linear(120, 15*4*4),\n",
    "            nn.ReLU(True),\n",
    "            Reshape([15, 4, 4]),\n",
    "            nn.ConvTranspose2d(15, 20, 2),\n",
    "            nn.BatchNorm2d(20),\n",
    "            nn.ConvTranspose2d(20, 10, 4),\n",
    "            nn.BatchNorm2d(10),\n",
    "            nn.ReLU(True),\n",
    "            nn.ConvTranspose2d(10, 10, 4),\n",
    "            nn.BatchNorm2d(10),\n",
    "            nn.Upsample(scale_factor=2),\n",
    "            nn.ConvTranspose2d(10, 10, 5),\n",
    "            nn.BatchNorm2d(10),\n",
    "            nn.ConvTranspose2d(10, 1, 3),\n",
    "            nn.Sigmoid()\n",
    "        )\n",
    "\n"
   ]
  }
 ],
 "metadata": {
  "kernelspec": {
   "display_name": "Python-3-Main",
   "language": "python",
   "name": "python-3-main"
  },
  "language_info": {
   "codemirror_mode": {
    "name": "ipython",
    "version": 3
   },
   "file_extension": ".py",
   "mimetype": "text/x-python",
   "name": "python",
   "nbconvert_exporter": "python",
   "pygments_lexer": "ipython3",
   "version": "3.6.3"
  },
  "toc": {
   "nav_menu": {},
   "number_sections": true,
   "sideBar": true,
   "skip_h1_title": false,
   "toc_cell": false,
   "toc_position": {
    "height": "704px",
    "left": "0px",
    "right": "1228px",
    "top": "110px",
    "width": "212px"
   },
   "toc_section_display": "block",
   "toc_window_display": true
  }
 },
 "nbformat": 4,
 "nbformat_minor": 2
}
